{
 "cells": [
  {
   "cell_type": "code",
   "execution_count": 2,
   "metadata": {},
   "outputs": [],
   "source": [
    "%load_ext autoreload\n",
    "%autoreload 2"
   ]
  },
  {
   "cell_type": "code",
   "execution_count": 38,
   "metadata": {},
   "outputs": [],
   "source": [
    "import pathlib\n",
    "\n",
    "from src.model.langchain_query import DatabaseQuery\n",
    "from src.database.telegram import TelegramReader\n",
    "from src.database.database import ChromaUtils\n",
    "from src.schemas.schemas import TextQuery\n",
    "from src.model.llm_chain import LLMChain"
   ]
  },
  {
   "cell_type": "code",
   "execution_count": 4,
   "metadata": {},
   "outputs": [],
   "source": [
    "data_folder = pathlib.Path.cwd().parent / \"data\"\n",
    "telegram_raw_path = data_folder / \"result.json\""
   ]
  },
  {
   "attachments": {},
   "cell_type": "markdown",
   "metadata": {},
   "source": [
    "# Creating vector database with links v1"
   ]
  },
  {
   "cell_type": "code",
   "execution_count": 9,
   "metadata": {},
   "outputs": [
    {
     "name": "stderr",
     "output_type": "stream",
     "text": [
      "Using embedded DuckDB with persistence: data will be stored in: /home/mayank-soni/code/secondbrain/data/chroma\n"
     ]
    }
   ],
   "source": [
    "db = ChromaUtils(persist=True)"
   ]
  },
  {
   "cell_type": "code",
   "execution_count": 10,
   "metadata": {},
   "outputs": [
    {
     "data": {
      "text/plain": [
       "0"
      ]
     },
     "execution_count": 10,
     "metadata": {},
     "output_type": "execute_result"
    }
   ],
   "source": [
    "db.chroma._collection.count()"
   ]
  },
  {
   "cell_type": "code",
   "execution_count": 32,
   "metadata": {},
   "outputs": [
    {
     "name": "stdout",
     "output_type": "stream",
     "text": [
      "Summarising link:  https://poloclub.github.io/cnn-explainer/\n",
      "[Document(page_content='\\n\\n\\n\\n\\n\\n\\n\\n\\n\\n\\n\\n\\n\\n\\n\\n\\n\\n\\n\\n\\n\\nCNN Explainer\\n\\n\\n\\n\\n\\n\\n\\n\\n\\n\\n\\n\\n\\n\\n\\n\\n\\n\\n\\n\\n', metadata={'source': 'https://poloclub.github.io/cnn-explainer/', 'title': 'CNN Explainer', 'description': 'An interactive visualization system designed to help non-experts learn about Convolutional Neural Networks (CNNs).', 'language': None})]\n"
     ]
    }
   ],
   "source": [
    "reader = TelegramReader(telegram_raw_path)"
   ]
  },
  {
   "cell_type": "code",
   "execution_count": 31,
   "metadata": {},
   "outputs": [
    {
     "data": {
      "text/html": [
       "<div>\n",
       "<style scoped>\n",
       "    .dataframe tbody tr th:only-of-type {\n",
       "        vertical-align: middle;\n",
       "    }\n",
       "\n",
       "    .dataframe tbody tr th {\n",
       "        vertical-align: top;\n",
       "    }\n",
       "\n",
       "    .dataframe thead th {\n",
       "        text-align: right;\n",
       "    }\n",
       "</style>\n",
       "<table border=\"1\" class=\"dataframe\">\n",
       "  <thead>\n",
       "    <tr style=\"text-align: right;\">\n",
       "      <th></th>\n",
       "      <th>plaintext</th>\n",
       "      <th>date</th>\n",
       "      <th>from</th>\n",
       "    </tr>\n",
       "  </thead>\n",
       "  <tbody>\n",
       "    <tr>\n",
       "      <th>0</th>\n",
       "      <td>Oh it’s from nltk interesting</td>\n",
       "      <td>2023-03-20T19:35:30</td>\n",
       "      <td>Jia Hao Khaw</td>\n",
       "    </tr>\n",
       "    <tr>\n",
       "      <th>1</th>\n",
       "      <td>Thanks!</td>\n",
       "      <td>2023-02-25T17:13:08</td>\n",
       "      <td>Mayank Soni</td>\n",
       "    </tr>\n",
       "    <tr>\n",
       "      <th>2</th>\n",
       "      <td>haro people. for the job orchestration part.\\n\\nI am using windows, anyone else using windows and get into an issue?</td>\n",
       "      <td>2023-03-03T15:25:26</td>\n",
       "      <td>paul</td>\n",
       "    </tr>\n",
       "    <tr>\n",
       "      <th>3</th>\n",
       "      <td>if anyone is still attempting now n facing issues lmk, i can tech support a bit.</td>\n",
       "      <td>2023-02-28T21:52:49</td>\n",
       "      <td>Hanafi Haffidz</td>\n",
       "    </tr>\n",
       "    <tr>\n",
       "      <th>4</th>\n",
       "      <td>Yea very black mirror !</td>\n",
       "      <td>2023-04-11T10:26:29</td>\n",
       "      <td>Marvin Ng</td>\n",
       "    </tr>\n",
       "    <tr>\n",
       "      <th>5</th>\n",
       "      <td>u guys want pgp, 11.30. might rain. if rain nami.</td>\n",
       "      <td>2023-03-13T10:28:27</td>\n",
       "      <td>paul</td>\n",
       "    </tr>\n",
       "    <tr>\n",
       "      <th>6</th>\n",
       "      <td>scared you submit no punctuation</td>\n",
       "      <td>2023-03-30T09:31:44</td>\n",
       "      <td>Hanafi Haffidz</td>\n",
       "    </tr>\n",
       "    <tr>\n",
       "      <th>7</th>\n",
       "      <td>WEF summit talks. Multi day event one</td>\n",
       "      <td>2023-04-12T11:55:02</td>\n",
       "      <td>Hanafi Haffidz</td>\n",
       "    </tr>\n",
       "    <tr>\n",
       "      <th>8</th>\n",
       "      <td>I second!</td>\n",
       "      <td>2023-04-11T10:22:33</td>\n",
       "      <td>JF Koh</td>\n",
       "    </tr>\n",
       "    <tr>\n",
       "      <th>9</th>\n",
       "      <td>Downstairs bus stop</td>\n",
       "      <td>2023-03-16T11:05:34</td>\n",
       "      <td>JF Koh</td>\n",
       "    </tr>\n",
       "    <tr>\n",
       "      <th>10</th>\n",
       "      <td>gcloud container clusters get-credentials aiapds-ds-cluster --zone asia-southeast1-c --project aiap-12-ds\\n\\ngcloud components install gke-gcloud-auth-plugin</td>\n",
       "      <td>2023-02-28T16:47:03</td>\n",
       "      <td>Marvin Ng</td>\n",
       "    </tr>\n",
       "    <tr>\n",
       "      <th>11</th>\n",
       "      <td>https://poloclub.github.io/cnn-explainer/ (Summary of link:  CNN Explainer is a news and information service that provides clear, easy-to-understand explanations of complex topics. It covers a variety of topics from politics to science, giving readers the knowledge they need to understand the issue.)</td>\n",
       "      <td>2023-03-22T12:19:55</td>\n",
       "      <td>Marvin Ng</td>\n",
       "    </tr>\n",
       "  </tbody>\n",
       "</table>\n",
       "</div>"
      ],
      "text/plain": [
       "                                                                                                                                                                                                                                                                                                        plaintext   \n",
       "0                                                                                                                                                                                                                                                                                   Oh it’s from nltk interesting  \\\n",
       "1                                                                                                                                                                                                                                                                                                         Thanks!   \n",
       "2                                                                                                                                                                                            haro people. for the job orchestration part.\\n\\nI am using windows, anyone else using windows and get into an issue?   \n",
       "3                                                                                                                                                                                                                                if anyone is still attempting now n facing issues lmk, i can tech support a bit.   \n",
       "4                                                                                                                                                                                                                                                                                         Yea very black mirror !   \n",
       "5                                                                                                                                                                                                                                                               u guys want pgp, 11.30. might rain. if rain nami.   \n",
       "6                                                                                                                                                                                                                                                                                scared you submit no punctuation   \n",
       "7                                                                                                                                                                                                                                                                           WEF summit talks. Multi day event one   \n",
       "8                                                                                                                                                                                                                                                                                                       I second!   \n",
       "9                                                                                                                                                                                                                                                                                             Downstairs bus stop   \n",
       "10                                                                                                                                                  gcloud container clusters get-credentials aiapds-ds-cluster --zone asia-southeast1-c --project aiap-12-ds\\n\\ngcloud components install gke-gcloud-auth-plugin   \n",
       "11  https://poloclub.github.io/cnn-explainer/ (Summary of link:  CNN Explainer is a news and information service that provides clear, easy-to-understand explanations of complex topics. It covers a variety of topics from politics to science, giving readers the knowledge they need to understand the issue.)   \n",
       "\n",
       "                   date            from  \n",
       "0   2023-03-20T19:35:30    Jia Hao Khaw  \n",
       "1   2023-02-25T17:13:08     Mayank Soni  \n",
       "2   2023-03-03T15:25:26            paul  \n",
       "3   2023-02-28T21:52:49  Hanafi Haffidz  \n",
       "4   2023-04-11T10:26:29       Marvin Ng  \n",
       "5   2023-03-13T10:28:27            paul  \n",
       "6   2023-03-30T09:31:44  Hanafi Haffidz  \n",
       "7   2023-04-12T11:55:02  Hanafi Haffidz  \n",
       "8   2023-04-11T10:22:33          JF Koh  \n",
       "9   2023-03-16T11:05:34          JF Koh  \n",
       "10  2023-02-28T16:47:03       Marvin Ng  \n",
       "11  2023-03-22T12:19:55       Marvin Ng  "
      ]
     },
     "execution_count": 31,
     "metadata": {},
     "output_type": "execute_result"
    }
   ],
   "source": [
    "reader.output"
   ]
  },
  {
   "cell_type": "code",
   "execution_count": 18,
   "metadata": {},
   "outputs": [
    {
     "data": {
      "text/plain": [
       "<langchain.vectorstores.chroma.Chroma at 0x7f475433fd30>"
      ]
     },
     "execution_count": 18,
     "metadata": {},
     "output_type": "execute_result"
    }
   ],
   "source": [
    "db.add_telegram_plaintext(reader)"
   ]
  },
  {
   "cell_type": "code",
   "execution_count": 19,
   "metadata": {},
   "outputs": [
    {
     "data": {
      "text/plain": [
       "4"
      ]
     },
     "execution_count": 19,
     "metadata": {},
     "output_type": "execute_result"
    }
   ],
   "source": [
    "db.chroma._collection.count()"
   ]
  },
  {
   "cell_type": "code",
   "execution_count": 21,
   "metadata": {},
   "outputs": [
    {
     "data": {
      "text/plain": [
       "[(Document(page_content='Thanks!', metadata={'date': '2023-02-25T17:13:08', 'from': 'Mayank Soni'}),\n",
       "  0.43566447496414185),\n",
       " (Document(page_content='Oh it’s from nltk interesting', metadata={'date': '2023-03-20T19:35:30', 'from': 'Jia Hao Khaw'}),\n",
       "  0.504880428314209),\n",
       " (Document(page_content='haro people. for the job orchestration part.\\n\\nI am using windows, anyone else using windows and get into an issue?', metadata={'date': '2023-03-03T15:25:26', 'from': 'paul'}),\n",
       "  0.5415347218513489),\n",
       " (Document(page_content='if anyone is still attempting now n facing issues lmk, i can tech support a bit.', metadata={'date': '2023-02-28T21:52:49', 'from': 'Hanafi Haffidz'}),\n",
       "  0.5526763200759888)]"
      ]
     },
     "execution_count": 21,
     "metadata": {},
     "output_type": "execute_result"
    }
   ],
   "source": [
    "db.chroma.similarity_search_with_score(\"food\", 4)"
   ]
  },
  {
   "cell_type": "code",
   "execution_count": 23,
   "metadata": {},
   "outputs": [
    {
     "name": "stderr",
     "output_type": "stream",
     "text": [
      "Using embedded DuckDB with persistence: data will be stored in: /home/mayank-soni/code/secondbrain/data/chroma\n"
     ]
    },
    {
     "name": "stdout",
     "output_type": "stream",
     "text": [
      "zzz intialize DatabaseQuery\n",
      "Database loaded. It contains 4 documents.\n"
     ]
    }
   ],
   "source": [
    "databasequery = DatabaseQuery()"
   ]
  },
  {
   "cell_type": "code",
   "execution_count": 25,
   "metadata": {},
   "outputs": [
    {
     "name": "stderr",
     "output_type": "stream",
     "text": [
      "Chroma collection langchain contains fewer than 10 elements.\n",
      "Chroma collection langchain contains fewer than 9 elements.\n",
      "Chroma collection langchain contains fewer than 8 elements.\n",
      "Chroma collection langchain contains fewer than 7 elements.\n",
      "Chroma collection langchain contains fewer than 6 elements.\n",
      "Chroma collection langchain contains fewer than 5 elements.\n"
     ]
    }
   ],
   "source": [
    "results = databasequery.search_texts(\n",
    "    TextQuery(query=\"machine learning models\", desired_result_num=10)\n",
    ")"
   ]
  },
  {
   "cell_type": "code",
   "execution_count": 26,
   "metadata": {},
   "outputs": [
    {
     "data": {
      "text/plain": [
       "SemanticResult(result=[{'page_content': 'Oh it’s from nltk interesting', 'metadata': {'date': '2023-03-20T19:35:30', 'from': 'Jia Hao Khaw'}}, {'page_content': 'Thanks!', 'metadata': {'date': '2023-02-25T17:13:08', 'from': 'Mayank Soni'}}, {'page_content': 'if anyone is still attempting now n facing issues lmk, i can tech support a bit.', 'metadata': {'date': '2023-02-28T21:52:49', 'from': 'Hanafi Haffidz'}}, {'page_content': 'haro people. for the job orchestration part.\\n\\nI am using windows, anyone else using windows and get into an issue?', 'metadata': {'date': '2023-03-03T15:25:26', 'from': 'paul'}}], humanized_answer='')"
      ]
     },
     "execution_count": 26,
     "metadata": {},
     "output_type": "execute_result"
    }
   ],
   "source": [
    "results"
   ]
  },
  {
   "cell_type": "code",
   "execution_count": 39,
   "metadata": {},
   "outputs": [
    {
     "name": "stderr",
     "output_type": "stream",
     "text": [
      "WARNING:chromadb:Using embedded DuckDB with persistence: data will be stored in: /home/mayank-soni/code/secondbrain/data/chroma\n"
     ]
    },
    {
     "name": "stdout",
     "output_type": "stream",
     "text": [
      "zzz intialize DatabaseQuery\n",
      "Database loaded. It contains 4 documents.\n"
     ]
    }
   ],
   "source": [
    "llm_chain = LLMChain()"
   ]
  },
  {
   "cell_type": "code",
   "execution_count": 41,
   "metadata": {},
   "outputs": [
    {
     "data": {
      "text/plain": [
       "SemanticResult(result=[{'page_content': 'Oh it’s from nltk interesting', 'metadata': {'date': '2023-03-20T19:35:30', 'from': 'Jia Hao Khaw'}}, {'page_content': 'Thanks!', 'metadata': {'date': '2023-02-25T17:13:08', 'from': 'Mayank Soni'}}], humanized_answer=' NLTK is a library for natural language processing, which includes tools for building and using machine learning models.')"
      ]
     },
     "execution_count": 41,
     "metadata": {},
     "output_type": "execute_result"
    }
   ],
   "source": [
    "llm_chain.send_query(TextQuery(query=\"machine learning models\", desired_result_num=2))"
   ]
  }
 ],
 "metadata": {
  "kernelspec": {
   "display_name": "sskm-lc",
   "language": "python",
   "name": "python3"
  },
  "language_info": {
   "codemirror_mode": {
    "name": "ipython",
    "version": 3
   },
   "file_extension": ".py",
   "mimetype": "text/x-python",
   "name": "python",
   "nbconvert_exporter": "python",
   "pygments_lexer": "ipython3",
   "version": "3.10.11"
  },
  "orig_nbformat": 4
 },
 "nbformat": 4,
 "nbformat_minor": 2
}
