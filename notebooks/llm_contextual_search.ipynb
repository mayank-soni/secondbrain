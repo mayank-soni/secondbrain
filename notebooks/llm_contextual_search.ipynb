{
 "cells": [
  {
   "cell_type": "code",
   "execution_count": 5,
   "metadata": {},
   "outputs": [
    {
     "name": "stdout",
     "output_type": "stream",
     "text": [
      "The autoreload extension is already loaded. To reload it, use:\n",
      "  %reload_ext autoreload\n"
     ]
    }
   ],
   "source": [
    "%load_ext autoreload\n",
    "%autoreload 2\n",
    "\n",
    "import os\n",
    "cwd = os.getcwd()\n",
    "parent_dir = os.path.abspath(os.path.join(cwd, '..'))\n",
    "import sys\n",
    "sys.path.append(parent_dir)\n",
    "\n",
    "from langchain.document_loaders import WebBaseLoader, YoutubeLoader\n",
    "from langchain.embeddings import OpenAIEmbeddings\n",
    "from langchain.text_splitter import TokenTextSplitter\n",
    "from langchain.vectorstores import Chroma\n",
    "\n",
    "from backend.src.langchain.langchain_query import DatabaseQuery\n",
    "from backend.src.data.telegram import TelegramReader\n",
    "from backend.src.data.chroma_utils import ChromaUtils\n",
    "from backend.src.fastapi.schemas.schemas import TextQuery\n",
    "from langchain.llms import OpenAI\n",
    "from langchain.chains.question_answering import load_qa_chain"
   ]
  },
  {
   "cell_type": "code",
   "execution_count": 6,
   "metadata": {},
   "outputs": [],
   "source": [
    "import os\n",
    "os.environ['OPENAI_API_KEY'] = \"\""
   ]
  },
  {
   "cell_type": "code",
   "execution_count": 7,
   "metadata": {},
   "outputs": [
    {
     "name": "stderr",
     "output_type": "stream",
     "text": [
      "Using embedded DuckDB with persistence: data will be stored in: /Users/tyl/Documents/AIAP/repos/group-2/data/chroma\n"
     ]
    }
   ],
   "source": [
    "query_db = DatabaseQuery()"
   ]
  },
  {
   "cell_type": "code",
   "execution_count": 8,
   "metadata": {},
   "outputs": [],
   "source": [
    "llm = OpenAI(temperature=0)\n",
    "chain = load_qa_chain(llm, chain_type=\"stuff\")"
   ]
  },
  {
   "cell_type": "code",
   "execution_count": 9,
   "metadata": {},
   "outputs": [],
   "source": [
    "# query = DatabaseQuery()\n",
    "query_str = \"Did we go to the engine canteen to eat?\"\n",
    "saved_results = query_db.search_texts(TextQuery(query=query_str, result_num=10))\n",
    "docs_results = query_db.search_texts_return_docs(TextQuery(query=query_str, result_num=10))"
   ]
  },
  {
   "cell_type": "code",
   "execution_count": 10,
   "metadata": {},
   "outputs": [
    {
     "name": "stdout",
     "output_type": "stream",
     "text": [
      "{'page_content': 'yeah some of us went to the engine canteen', 'metadata': {'date': '2023-02-24T11:26:24', 'from': 'Zhi Xuan'}}\n",
      "{'page_content': 'Arts canteen .. the one we went yesterday', 'metadata': {'date': '2023-02-22T11:29:22', 'from': 'Marvin Ng'}}\n",
      "{'page_content': 'Friends, u guys changed canteen?', 'metadata': {'date': '2023-02-24T11:23:55', 'from': 'paul'}}\n",
      "{'page_content': 'Lunch?', 'metadata': {'date': '2023-03-02T10:55:42', 'from': 'JF Koh'}}\n",
      "{'page_content': 'Makan, anyone?', 'metadata': {'date': '2023-03-06T10:56:11', 'from': 'JF Koh'}}\n",
      "{'page_content': 'lunch time guys', 'metadata': {'date': '2023-03-06T10:59:55', 'from': 'Marvin Ng'}}\n",
      "{'page_content': 'Hihi, where did u guys went', 'metadata': {'date': '2023-02-22T11:28:18', 'from': 'paul'}}\n",
      "{'page_content': 'What we doing?', 'metadata': {'date': '2023-02-23T20:31:31', 'from': 'paul'}}\n",
      "{'page_content': 'Han we have meeting now', 'metadata': {'date': '2023-04-03T14:01:47', 'from': 'Zhi Xuan'}}\n",
      "{'page_content': 'Toilet', 'metadata': {'date': '2023-04-12T11:58:00', 'from': 'paul'}}\n"
     ]
    }
   ],
   "source": [
    "for item in saved_results.result:\n",
    "    print(item)"
   ]
  },
  {
   "cell_type": "code",
   "execution_count": 11,
   "metadata": {},
   "outputs": [
    {
     "data": {
      "text/plain": [
       "' Yes, some of us went to the engine canteen.'"
      ]
     },
     "execution_count": 11,
     "metadata": {},
     "output_type": "execute_result"
    }
   ],
   "source": [
    "chain.run(input_documents=docs_results, question=query_str)"
   ]
  }
 ],
 "metadata": {
  "kernelspec": {
   "display_name": "py9",
   "language": "python",
   "name": "python3"
  },
  "language_info": {
   "codemirror_mode": {
    "name": "ipython",
    "version": 3
   },
   "file_extension": ".py",
   "mimetype": "text/x-python",
   "name": "python",
   "nbconvert_exporter": "python",
   "pygments_lexer": "ipython3",
   "version": "3.9.16"
  },
  "orig_nbformat": 4
 },
 "nbformat": 4,
 "nbformat_minor": 2
}
