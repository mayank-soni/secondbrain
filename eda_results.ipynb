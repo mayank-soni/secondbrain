{
 "cells": [
  {
   "cell_type": "code",
   "execution_count": 1,
   "metadata": {},
   "outputs": [],
   "source": [
    "%load_ext autoreload\n",
    "%autoreload 2"
   ]
  },
  {
   "cell_type": "code",
   "execution_count": 2,
   "metadata": {},
   "outputs": [],
   "source": [
    "import pandas as pd\n",
    "import numpy as np"
   ]
  },
  {
   "cell_type": "code",
   "execution_count": 3,
   "metadata": {},
   "outputs": [],
   "source": [
    "import tiktoken\n",
    "\n",
    "from openai.embeddings_utils import get_embedding"
   ]
  },
  {
   "cell_type": "code",
   "execution_count": 4,
   "metadata": {},
   "outputs": [],
   "source": [
    "datafile_path = \"./data/result.json\"\n"
   ]
  },
  {
   "cell_type": "code",
   "execution_count": 5,
   "metadata": {},
   "outputs": [],
   "source": [
    "df = pd.read_json(datafile_path)\n",
    "\n",
    "\n",
    "# df = pd.read_csv(datafile_path)\n",
    "# df[\"embedding\"] = df.embedding.apply(eval).apply(np.array)"
   ]
  },
  {
   "cell_type": "code",
   "execution_count": 6,
   "metadata": {},
   "outputs": [],
   "source": [
    "# embedding model parameters\n",
    "embedding_model = \"text-embedding-ada-002\"\n",
    "embedding_encoding = \"cl100k_base\"  # this the encoding for text-embedding-ada-002\n",
    "max_tokens = 8000  # the maximum for text-embedding-ada-002 is 8191"
   ]
  },
  {
   "cell_type": "code",
   "execution_count": 7,
   "metadata": {},
   "outputs": [],
   "source": [
    "messages_df_from_records = pd.DataFrame.from_records(df.messages.values)"
   ]
  },
  {
   "cell_type": "code",
   "execution_count": 8,
   "metadata": {},
   "outputs": [],
   "source": [
    "text_entities_df_from_records = pd.DataFrame.from_records(messages_df_from_records.text_entities.values)"
   ]
  },
  {
   "cell_type": "code",
   "execution_count": null,
   "metadata": {},
   "outputs": [],
   "source": []
  },
  {
   "cell_type": "code",
   "execution_count": 9,
   "metadata": {},
   "outputs": [
    {
     "name": "stdout",
     "output_type": "stream",
     "text": [
      "[{'type': 'mention_name', 'text': 'Mayank', 'user_id': 565286338}, {'type': 'plain', 'text': ' thats why I was saying the junior programmers are in trouble'}] 565286338\n",
      "[{'type': 'mention_name', 'text': 'Mayank AIAP', 'user_id': 565286338}] 565286338\n",
      "[{'type': 'mention_name', 'text': 'Mayank AIAP', 'user_id': 565286338}, {'type': 'plain', 'text': ' : \\nso this color would work, but not without the unsqueze:\\nimg_pil = '}, {'type': 'link', 'text': 'Image.open'}, {'type': 'plain', 'text': '(imagefp)\\nimg_tensor = pil_to_tensor(img_pil)\\nprint(img_tensor.shape)\\n\\nedge_filter = torch.tensor(\\n    [[[[ 0,0,0],\\n       [ 0,1,0 ],\\n       [ 0,0,0]]]]).float()\\n\\nimg_tensor_ = F.conv2d(img_tensor.unsqueeze(1), edge_filter)\\nprint(img_tensor_.shape)\\n\\nimg_tensor_.clamp_min_(0).clamp_max_(1)\\nprint(img_tensor_.shape)\\n\\nimg = img_tensor_[:,0,:,:]\\ntensor_to_pil(img)'}] 565286338\n",
      "[{'type': 'mention_name', 'text': 'Shu Ying', 'user_id': 5362962200}] 5362962200\n",
      "[{'type': 'mention_name', 'text': 'Mayank AIAP', 'user_id': 565286338}, {'type': 'plain', 'text': ' @jia hao ah it was wordnet synset i was referring to'}] 565286338\n"
     ]
    }
   ],
   "source": [
    "def text_entities_get_keys(text_entities: list) -> list:\n",
    "    keys = set()\n",
    "    values = []\n",
    "    for dic in text_entities:\n",
    "         for key, value in dic.items():\n",
    "            keys.add(key)\n",
    "            if key == 'user_id':\n",
    "                print(text_entities, value)\n",
    "    return keys, values\n",
    "\n",
    "total = set()\n",
    "for val,vale1 in messages_df_from_records.text_entities.apply(text_entities_get_keys).values:\n",
    "    total = total.union(val)\n",
    "    if val == 'user_id':\n",
    "        print(vale1)"
   ]
  },
  {
   "cell_type": "code",
   "execution_count": 10,
   "metadata": {},
   "outputs": [
    {
     "name": "stdout",
     "output_type": "stream",
     "text": [
      "[{'type': 'bot_command', 'text': '/start_roll_call'}]\n",
      "[{'type': 'bot_command', 'text': '/in'}]\n",
      "[{'type': 'bot_command', 'text': '/in@WhosInBot'}]\n"
     ]
    }
   ],
   "source": [
    "def text_entities_get_type(text_entities: list) -> list:\n",
    "    types = set()\n",
    "    val = ''\n",
    "    for dic in text_entities:\n",
    "        for key, value in dic.items():\n",
    "            if key == 'type':\n",
    "                val = value\n",
    "    if val == 'bot_command':\n",
    "        print(text_entities)\n",
    "    return val\n",
    "\n",
    "total_types = set()\n",
    "for val in messages_df_from_records.text_entities.apply(text_entities_get_type).values:\n",
    "    total_types = total_types | set([val])\n"
   ]
  },
  {
   "cell_type": "code",
   "execution_count": 11,
   "metadata": {},
   "outputs": [],
   "source": [
    "def parse_text_entities(text_entities: list) -> str:\n",
    "    text = ''\n",
    "    for dic in text_entities:\n",
    "        if dic.get('type') == 'plain':\n",
    "            text += dic.get('text')\n",
    "    return text\n",
    "\n",
    "text_df = messages_df_from_records.text_entities.apply(parse_text_entities)\n"
   ]
  },
  {
   "cell_type": "code",
   "execution_count": 12,
   "metadata": {},
   "outputs": [
    {
     "name": "stdout",
     "output_type": "stream",
     "text": [
      "<class 'pandas.core.series.Series'>\n",
      "RangeIndex: 350 entries, 0 to 349\n",
      "Series name: text_entities\n",
      "Non-Null Count  Dtype \n",
      "--------------  ----- \n",
      "350 non-null    object\n",
      "dtypes: object(1)\n",
      "memory usage: 2.9+ KB\n"
     ]
    }
   ],
   "source": [
    "text_df.info()"
   ]
  },
  {
   "cell_type": "code",
   "execution_count": 13,
   "metadata": {},
   "outputs": [
    {
     "data": {
      "text/plain": [
       "34                                          class? haha.\n",
       "51     Yup, I started that Discord server. You can us...\n",
       "232    Just found this for gradient ascent:\\n\\n(if yo...\n",
       "220                                          I signed up\n",
       "267               dat one is not the haunted one right 😂\n",
       "200                                                     \n",
       "24                                                     .\n",
       "254                                           NEW LINK: \n",
       "156                                                     \n",
       "246                                          much easier\n",
       "Name: text_entities, dtype: object"
      ]
     },
     "execution_count": 13,
     "metadata": {},
     "output_type": "execute_result"
    }
   ],
   "source": [
    "text_df.sample(10)"
   ]
  },
  {
   "cell_type": "code",
   "execution_count": 14,
   "metadata": {},
   "outputs": [],
   "source": [
    "text_df = text_df[text_df != '']"
   ]
  },
  {
   "cell_type": "code",
   "execution_count": 15,
   "metadata": {},
   "outputs": [],
   "source": [
    "text_df = pd.DataFrame(text_df)"
   ]
  },
  {
   "cell_type": "code",
   "execution_count": 16,
   "metadata": {},
   "outputs": [
    {
     "data": {
      "text/html": [
       "<div>\n",
       "<style scoped>\n",
       "    .dataframe tbody tr th:only-of-type {\n",
       "        vertical-align: middle;\n",
       "    }\n",
       "\n",
       "    .dataframe tbody tr th {\n",
       "        vertical-align: top;\n",
       "    }\n",
       "\n",
       "    .dataframe thead th {\n",
       "        text-align: right;\n",
       "    }\n",
       "</style>\n",
       "<table border=\"1\" class=\"dataframe\">\n",
       "  <thead>\n",
       "    <tr style=\"text-align: right;\">\n",
       "      <th></th>\n",
       "      <th>text_entities</th>\n",
       "    </tr>\n",
       "  </thead>\n",
       "  <tbody>\n",
       "    <tr>\n",
       "      <th>5</th>\n",
       "      <td>hello i am marvin ng</td>\n",
       "    </tr>\n",
       "    <tr>\n",
       "      <th>7</th>\n",
       "      <td>Your username ah.. Likely scam leh. 😂</td>\n",
       "    </tr>\n",
       "    <tr>\n",
       "      <th>8</th>\n",
       "      <td>Hahaha</td>\n",
       "    </tr>\n",
       "    <tr>\n",
       "      <th>10</th>\n",
       "      <td>Hihi, where did u guys went</td>\n",
       "    </tr>\n",
       "    <tr>\n",
       "      <th>11</th>\n",
       "      <td>Arts canteen .. the one we went yesterday</td>\n",
       "    </tr>\n",
       "    <tr>\n",
       "      <th>...</th>\n",
       "      <td>...</td>\n",
       "    </tr>\n",
       "    <tr>\n",
       "      <th>340</th>\n",
       "      <td>In case you haven't had enough of transformers...</td>\n",
       "    </tr>\n",
       "    <tr>\n",
       "      <th>345</th>\n",
       "      <td>WEF summit talks. Multi day event one</td>\n",
       "    </tr>\n",
       "    <tr>\n",
       "      <th>346</th>\n",
       "      <td>where u sia, i tot u came back before us</td>\n",
       "    </tr>\n",
       "    <tr>\n",
       "      <th>347</th>\n",
       "      <td>Toilet</td>\n",
       "    </tr>\n",
       "    <tr>\n",
       "      <th>348</th>\n",
       "      <td>iOS learning platform for deepskilling</td>\n",
       "    </tr>\n",
       "  </tbody>\n",
       "</table>\n",
       "<p>278 rows × 1 columns</p>\n",
       "</div>"
      ],
      "text/plain": [
       "                                         text_entities\n",
       "5                                 hello i am marvin ng\n",
       "7                Your username ah.. Likely scam leh. 😂\n",
       "8                                               Hahaha\n",
       "10                         Hihi, where did u guys went\n",
       "11           Arts canteen .. the one we went yesterday\n",
       "..                                                 ...\n",
       "340  In case you haven't had enough of transformers...\n",
       "345              WEF summit talks. Multi day event one\n",
       "346           where u sia, i tot u came back before us\n",
       "347                                             Toilet\n",
       "348             iOS learning platform for deepskilling\n",
       "\n",
       "[278 rows x 1 columns]"
      ]
     },
     "execution_count": 16,
     "metadata": {},
     "output_type": "execute_result"
    }
   ],
   "source": [
    "text_df"
   ]
  },
  {
   "cell_type": "code",
   "execution_count": 17,
   "metadata": {},
   "outputs": [
    {
     "data": {
      "text/html": [
       "<div>\n",
       "<style scoped>\n",
       "    .dataframe tbody tr th:only-of-type {\n",
       "        vertical-align: middle;\n",
       "    }\n",
       "\n",
       "    .dataframe tbody tr th {\n",
       "        vertical-align: top;\n",
       "    }\n",
       "\n",
       "    .dataframe thead th {\n",
       "        text-align: right;\n",
       "    }\n",
       "</style>\n",
       "<table border=\"1\" class=\"dataframe\">\n",
       "  <thead>\n",
       "    <tr style=\"text-align: right;\">\n",
       "      <th></th>\n",
       "      <th>text_entities</th>\n",
       "    </tr>\n",
       "  </thead>\n",
       "  <tbody>\n",
       "    <tr>\n",
       "      <th>129</th>\n",
       "      <td>FYI someone from my Discord server did a ChatG...</td>\n",
       "    </tr>\n",
       "    <tr>\n",
       "      <th>217</th>\n",
       "      <td>i am game for this</td>\n",
       "    </tr>\n",
       "    <tr>\n",
       "      <th>280</th>\n",
       "      <td>Video call link:</td>\n",
       "    </tr>\n",
       "    <tr>\n",
       "      <th>47</th>\n",
       "      <td></td>\n",
       "    </tr>\n",
       "    <tr>\n",
       "      <th>254</th>\n",
       "      <td>NEW LINK:</td>\n",
       "    </tr>\n",
       "    <tr>\n",
       "      <th>313</th>\n",
       "      <td>meant to save it to my saved messages</td>\n",
       "    </tr>\n",
       "    <tr>\n",
       "      <th>97</th>\n",
       "      <td>hi guys, cause i had some weird issue yesterda...</td>\n",
       "    </tr>\n",
       "    <tr>\n",
       "      <th>51</th>\n",
       "      <td>Yup, I started that Discord server. You can us...</td>\n",
       "    </tr>\n",
       "    <tr>\n",
       "      <th>52</th>\n",
       "      <td>Should there be individual channels for batche...</td>\n",
       "    </tr>\n",
       "    <tr>\n",
       "      <th>96</th>\n",
       "      <td>Suggested resource creator for MLOps (suggeste...</td>\n",
       "    </tr>\n",
       "  </tbody>\n",
       "</table>\n",
       "</div>"
      ],
      "text/plain": [
       "                                         text_entities\n",
       "129  FYI someone from my Discord server did a ChatG...\n",
       "217                                 i am game for this\n",
       "280                                   Video call link:\n",
       "47                                                    \n",
       "254                                          NEW LINK:\n",
       "313              meant to save it to my saved messages\n",
       "97   hi guys, cause i had some weird issue yesterda...\n",
       "51   Yup, I started that Discord server. You can us...\n",
       "52   Should there be individual channels for batche...\n",
       "96   Suggested resource creator for MLOps (suggeste..."
      ]
     },
     "execution_count": 17,
     "metadata": {},
     "output_type": "execute_result"
    }
   ],
   "source": [
    "# load & inspect dataset\n",
    "\n",
    "\n",
    "text_df[\"text_entities\"] = (\n",
    "    text_df.text_entities.str.strip() \n",
    ")\n",
    "text_df.sample(10)"
   ]
  },
  {
   "cell_type": "code",
   "execution_count": null,
   "metadata": {},
   "outputs": [],
   "source": []
  },
  {
   "cell_type": "code",
   "execution_count": 18,
   "metadata": {},
   "outputs": [
    {
     "data": {
      "text/plain": [
       "278"
      ]
     },
     "execution_count": 18,
     "metadata": {},
     "output_type": "execute_result"
    }
   ],
   "source": [
    "\n",
    "encoding = tiktoken.get_encoding(embedding_encoding)\n",
    "\n",
    "# omit reviews that are too long to embed\n",
    "text_df[\"n_tokens\"] = text_df.text_entities.apply(lambda x: len(encoding.encode(x)))\n",
    "text_df = text_df[text_df.n_tokens <= max_tokens]\n",
    "len(text_df)"
   ]
  },
  {
   "cell_type": "code",
   "execution_count": 23,
   "metadata": {},
   "outputs": [],
   "source": [
    "text_df = text_df.loc[text_df['text_entities'] != \"\"]"
   ]
  },
  {
   "cell_type": "code",
   "execution_count": 24,
   "metadata": {},
   "outputs": [
    {
     "name": "stdout",
     "output_type": "stream",
     "text": [
      "<class 'pandas.core.frame.DataFrame'>\n",
      "Int64Index: 275 entries, 5 to 348\n",
      "Data columns (total 2 columns):\n",
      " #   Column         Non-Null Count  Dtype \n",
      "---  ------         --------------  ----- \n",
      " 0   text_entities  275 non-null    object\n",
      " 1   n_tokens       275 non-null    int64 \n",
      "dtypes: int64(1), object(1)\n",
      "memory usage: 6.4+ KB\n"
     ]
    }
   ],
   "source": [
    "# text_df.info()"
   ]
  },
  {
   "cell_type": "code",
   "execution_count": null,
   "metadata": {},
   "outputs": [],
   "source": []
  },
  {
   "cell_type": "code",
   "execution_count": 25,
   "metadata": {},
   "outputs": [
    {
     "name": "stderr",
     "output_type": "stream",
     "text": [
      "C:\\Users\\y3kma\\AppData\\Local\\Temp\\ipykernel_21076\\4249027083.py:2: SettingWithCopyWarning: \n",
      "A value is trying to be set on a copy of a slice from a DataFrame.\n",
      "Try using .loc[row_indexer,col_indexer] = value instead\n",
      "\n",
      "See the caveats in the documentation: https://pandas.pydata.org/pandas-docs/stable/user_guide/indexing.html#returning-a-view-versus-a-copy\n",
      "  text_df[\"embedding\"] = text_df.text_entities.apply(lambda x: get_embedding(x, engine=embedding_model))\n"
     ]
    }
   ],
   "source": [
    "# This may take a few minutes\n",
    "text_df[\"embedding\"] = text_df.text_entities.apply(lambda x: get_embedding(x, engine=embedding_model))\n",
    "text_df.to_csv(\"data/telegram_v1_with_embeddings.csv\")"
   ]
  },
  {
   "cell_type": "code",
   "execution_count": 26,
   "metadata": {},
   "outputs": [
    {
     "data": {
      "text/html": [
       "<div>\n",
       "<style scoped>\n",
       "    .dataframe tbody tr th:only-of-type {\n",
       "        vertical-align: middle;\n",
       "    }\n",
       "\n",
       "    .dataframe tbody tr th {\n",
       "        vertical-align: top;\n",
       "    }\n",
       "\n",
       "    .dataframe thead th {\n",
       "        text-align: right;\n",
       "    }\n",
       "</style>\n",
       "<table border=\"1\" class=\"dataframe\">\n",
       "  <thead>\n",
       "    <tr style=\"text-align: right;\">\n",
       "      <th></th>\n",
       "      <th>text_entities</th>\n",
       "      <th>n_tokens</th>\n",
       "      <th>embedding</th>\n",
       "    </tr>\n",
       "  </thead>\n",
       "  <tbody>\n",
       "    <tr>\n",
       "      <th>5</th>\n",
       "      <td>hello i am marvin ng</td>\n",
       "      <td>6</td>\n",
       "      <td>[-0.02315955050289631, -0.0253192987293005, -0...</td>\n",
       "    </tr>\n",
       "    <tr>\n",
       "      <th>7</th>\n",
       "      <td>Your username ah.. Likely scam leh. 😂</td>\n",
       "      <td>11</td>\n",
       "      <td>[0.006359778344631195, -0.01984380930662155, 0...</td>\n",
       "    </tr>\n",
       "    <tr>\n",
       "      <th>8</th>\n",
       "      <td>Hahaha</td>\n",
       "      <td>2</td>\n",
       "      <td>[-0.01198045164346695, -0.021351421251893044, ...</td>\n",
       "    </tr>\n",
       "    <tr>\n",
       "      <th>10</th>\n",
       "      <td>Hihi, where did u guys went</td>\n",
       "      <td>8</td>\n",
       "      <td>[-0.005862023681402206, -0.0022562702652066946...</td>\n",
       "    </tr>\n",
       "    <tr>\n",
       "      <th>11</th>\n",
       "      <td>Arts canteen .. the one we went yesterday</td>\n",
       "      <td>11</td>\n",
       "      <td>[-0.005921371281147003, 0.001968239899724722, ...</td>\n",
       "    </tr>\n",
       "    <tr>\n",
       "      <th>...</th>\n",
       "      <td>...</td>\n",
       "      <td>...</td>\n",
       "      <td>...</td>\n",
       "    </tr>\n",
       "    <tr>\n",
       "      <th>340</th>\n",
       "      <td>In case you haven't had enough of transformers...</td>\n",
       "      <td>14</td>\n",
       "      <td>[-0.005566476844251156, -0.031638238579034805,...</td>\n",
       "    </tr>\n",
       "    <tr>\n",
       "      <th>345</th>\n",
       "      <td>WEF summit talks. Multi day event one</td>\n",
       "      <td>9</td>\n",
       "      <td>[-0.022343982011079788, -0.014287988655269146,...</td>\n",
       "    </tr>\n",
       "    <tr>\n",
       "      <th>346</th>\n",
       "      <td>where u sia, i tot u came back before us</td>\n",
       "      <td>11</td>\n",
       "      <td>[0.020630987361073494, -0.020216763019561768, ...</td>\n",
       "    </tr>\n",
       "    <tr>\n",
       "      <th>347</th>\n",
       "      <td>Toilet</td>\n",
       "      <td>2</td>\n",
       "      <td>[0.0015059447614476085, -0.0001866410311777144...</td>\n",
       "    </tr>\n",
       "    <tr>\n",
       "      <th>348</th>\n",
       "      <td>iOS learning platform for deepskilling</td>\n",
       "      <td>7</td>\n",
       "      <td>[-0.013102805241942406, -0.017801078036427498,...</td>\n",
       "    </tr>\n",
       "  </tbody>\n",
       "</table>\n",
       "<p>275 rows × 3 columns</p>\n",
       "</div>"
      ],
      "text/plain": [
       "                                         text_entities  n_tokens  \\\n",
       "5                                 hello i am marvin ng         6   \n",
       "7                Your username ah.. Likely scam leh. 😂        11   \n",
       "8                                               Hahaha         2   \n",
       "10                         Hihi, where did u guys went         8   \n",
       "11           Arts canteen .. the one we went yesterday        11   \n",
       "..                                                 ...       ...   \n",
       "340  In case you haven't had enough of transformers...        14   \n",
       "345              WEF summit talks. Multi day event one         9   \n",
       "346           where u sia, i tot u came back before us        11   \n",
       "347                                             Toilet         2   \n",
       "348             iOS learning platform for deepskilling         7   \n",
       "\n",
       "                                             embedding  \n",
       "5    [-0.02315955050289631, -0.0253192987293005, -0...  \n",
       "7    [0.006359778344631195, -0.01984380930662155, 0...  \n",
       "8    [-0.01198045164346695, -0.021351421251893044, ...  \n",
       "10   [-0.005862023681402206, -0.0022562702652066946...  \n",
       "11   [-0.005921371281147003, 0.001968239899724722, ...  \n",
       "..                                                 ...  \n",
       "340  [-0.005566476844251156, -0.031638238579034805,...  \n",
       "345  [-0.022343982011079788, -0.014287988655269146,...  \n",
       "346  [0.020630987361073494, -0.020216763019561768, ...  \n",
       "347  [0.0015059447614476085, -0.0001866410311777144...  \n",
       "348  [-0.013102805241942406, -0.017801078036427498,...  \n",
       "\n",
       "[275 rows x 3 columns]"
      ]
     },
     "execution_count": 26,
     "metadata": {},
     "output_type": "execute_result"
    }
   ],
   "source": [
    "text_df"
   ]
  },
  {
   "cell_type": "code",
   "execution_count": null,
   "metadata": {},
   "outputs": [],
   "source": []
  }
 ],
 "metadata": {
  "kernelspec": {
   "display_name": "miniproj",
   "language": "python",
   "name": "python3"
  },
  "language_info": {
   "codemirror_mode": {
    "name": "ipython",
    "version": 3
   },
   "file_extension": ".py",
   "mimetype": "text/x-python",
   "name": "python",
   "nbconvert_exporter": "python",
   "pygments_lexer": "ipython3",
   "version": "3.9.16"
  },
  "orig_nbformat": 4
 },
 "nbformat": 4,
 "nbformat_minor": 2
}
